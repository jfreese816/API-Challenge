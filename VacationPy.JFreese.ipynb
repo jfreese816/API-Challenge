{
 "cells": [
  {
   "cell_type": "markdown",
   "metadata": {},
   "source": [
    "# VacationPy\n",
    "----\n",
    "\n",
    "#### Note\n",
    "* Keep an eye on your API usage. Use https://developers.google.com/maps/reporting/gmp-reporting as reference for how to monitor your usage and billing.\n",
    "\n",
    "* Instructions have been included for each segment. You do not have to follow them exactly, but they are included to help you think through the steps."
   ]
  },
  {
   "cell_type": "code",
   "execution_count": 1,
   "metadata": {},
   "outputs": [],
   "source": [
    "# Dependencies and Setup\n",
    "import matplotlib.pyplot as plt\n",
    "import pandas as pd\n",
    "import numpy as np\n",
    "import requests\n",
    "import gmaps\n",
    "import os\n",
    "from pprint import pprint\n",
    "\n",
    "%matplotlib inline\n",
    "\n",
    "# Import API key\n",
    "from api_keys import g_key"
   ]
  },
  {
   "cell_type": "markdown",
   "metadata": {},
   "source": [
    "### Store Part I results into DataFrame\n",
    "* Load the csv exported in Part I to a DataFrame"
   ]
  },
  {
   "cell_type": "code",
   "execution_count": 2,
   "metadata": {},
   "outputs": [
    {
     "data": {
      "text/html": [
       "<div>\n",
       "<style scoped>\n",
       "    .dataframe tbody tr th:only-of-type {\n",
       "        vertical-align: middle;\n",
       "    }\n",
       "\n",
       "    .dataframe tbody tr th {\n",
       "        vertical-align: top;\n",
       "    }\n",
       "\n",
       "    .dataframe thead th {\n",
       "        text-align: right;\n",
       "    }\n",
       "</style>\n",
       "<table border=\"1\" class=\"dataframe\">\n",
       "  <thead>\n",
       "    <tr style=\"text-align: right;\">\n",
       "      <th></th>\n",
       "      <th>City</th>\n",
       "      <th>Lat</th>\n",
       "      <th>Lng</th>\n",
       "      <th>Max Temp</th>\n",
       "      <th>Humidity</th>\n",
       "      <th>Cloudiness</th>\n",
       "      <th>Wind Speed</th>\n",
       "      <th>Country</th>\n",
       "      <th>Date</th>\n",
       "    </tr>\n",
       "  </thead>\n",
       "  <tbody>\n",
       "    <tr>\n",
       "      <th>0</th>\n",
       "      <td>Kahului</td>\n",
       "      <td>20.8947</td>\n",
       "      <td>-156.4700</td>\n",
       "      <td>81.90</td>\n",
       "      <td>62</td>\n",
       "      <td>20</td>\n",
       "      <td>13.80</td>\n",
       "      <td>US</td>\n",
       "      <td>1630005224</td>\n",
       "    </tr>\n",
       "    <tr>\n",
       "      <th>1</th>\n",
       "      <td>Ushuaia</td>\n",
       "      <td>-54.8000</td>\n",
       "      <td>-68.3000</td>\n",
       "      <td>40.62</td>\n",
       "      <td>48</td>\n",
       "      <td>0</td>\n",
       "      <td>0.81</td>\n",
       "      <td>AR</td>\n",
       "      <td>1630005309</td>\n",
       "    </tr>\n",
       "    <tr>\n",
       "      <th>2</th>\n",
       "      <td>Ploemeur</td>\n",
       "      <td>47.7333</td>\n",
       "      <td>-3.4333</td>\n",
       "      <td>64.67</td>\n",
       "      <td>76</td>\n",
       "      <td>90</td>\n",
       "      <td>12.66</td>\n",
       "      <td>FR</td>\n",
       "      <td>1630005310</td>\n",
       "    </tr>\n",
       "    <tr>\n",
       "      <th>3</th>\n",
       "      <td>Punta Arenas</td>\n",
       "      <td>-53.1500</td>\n",
       "      <td>-70.9167</td>\n",
       "      <td>41.11</td>\n",
       "      <td>70</td>\n",
       "      <td>40</td>\n",
       "      <td>8.05</td>\n",
       "      <td>CL</td>\n",
       "      <td>1630005310</td>\n",
       "    </tr>\n",
       "    <tr>\n",
       "      <th>4</th>\n",
       "      <td>Carnarvon</td>\n",
       "      <td>-24.8667</td>\n",
       "      <td>113.6333</td>\n",
       "      <td>59.07</td>\n",
       "      <td>71</td>\n",
       "      <td>0</td>\n",
       "      <td>11.50</td>\n",
       "      <td>AU</td>\n",
       "      <td>1630005311</td>\n",
       "    </tr>\n",
       "  </tbody>\n",
       "</table>\n",
       "</div>"
      ],
      "text/plain": [
       "           City      Lat       Lng  Max Temp  Humidity  Cloudiness  \\\n",
       "0       Kahului  20.8947 -156.4700     81.90        62          20   \n",
       "1       Ushuaia -54.8000  -68.3000     40.62        48           0   \n",
       "2      Ploemeur  47.7333   -3.4333     64.67        76          90   \n",
       "3  Punta Arenas -53.1500  -70.9167     41.11        70          40   \n",
       "4     Carnarvon -24.8667  113.6333     59.07        71           0   \n",
       "\n",
       "   Wind Speed Country        Date  \n",
       "0       13.80      US  1630005224  \n",
       "1        0.81      AR  1630005309  \n",
       "2       12.66      FR  1630005310  \n",
       "3        8.05      CL  1630005310  \n",
       "4       11.50      AU  1630005311  "
      ]
     },
     "execution_count": 2,
     "metadata": {},
     "output_type": "execute_result"
    }
   ],
   "source": [
    "weather_df = pd.read_csv( '../output_data/cities.csv')\n",
    "weather_df.head()"
   ]
  },
  {
   "cell_type": "markdown",
   "metadata": {},
   "source": [
    "### Humidity Heatmap\n",
    "* Configure gmaps.\n",
    "* Use the Lat and Lng as locations and Humidity as the weight.\n",
    "* Add Heatmap layer to map."
   ]
  },
  {
   "cell_type": "code",
   "execution_count": 3,
   "metadata": {},
   "outputs": [],
   "source": [
    "gmaps.configure(api_key = g_key)"
   ]
  },
  {
   "cell_type": "code",
   "execution_count": 4,
   "metadata": {},
   "outputs": [],
   "source": [
    "# Store latitude and longitude\n",
    "locations = weather_df[[ 'Lat', 'Lng']]\n",
    "\n",
    "# Store Humidity\n",
    "humidity = weather_df[ 'Humidity'].astype( 'float')"
   ]
  },
  {
   "cell_type": "code",
   "execution_count": 5,
   "metadata": {},
   "outputs": [
    {
     "data": {
      "application/vnd.jupyter.widget-view+json": {
       "model_id": "ce9df22f0c10491587d6b6d54aa258e0",
       "version_major": 2,
       "version_minor": 0
      },
      "text/plain": [
       "Figure(layout=FigureLayout(height='420px'))"
      ]
     },
     "metadata": {},
     "output_type": "display_data"
    }
   ],
   "source": [
    "fig = gmaps.figure(center = (0,0), zoom_level= 2)\n",
    "\n",
    "# Create heat layer\n",
    "heat_layer = gmaps.heatmap_layer(locations, \n",
    "                                 weights = humidity, \n",
    "                                 dissipating = False, \n",
    "                                 max_intensity = 100, \n",
    "                                 point_radius = 3\n",
    "                                )\n",
    "\n",
    "# Add layer\n",
    "fig.add_layer(heat_layer)\n",
    "\n",
    "# Display figure\n",
    "fig"
   ]
  },
  {
   "cell_type": "markdown",
   "metadata": {},
   "source": [
    "### Create new DataFrame fitting weather criteria\n",
    "* Narrow down the cities to fit weather conditions.\n",
    "* Drop any rows will null values."
   ]
  },
  {
   "cell_type": "code",
   "execution_count": 6,
   "metadata": {},
   "outputs": [
    {
     "data": {
      "text/html": [
       "<div>\n",
       "<style scoped>\n",
       "    .dataframe tbody tr th:only-of-type {\n",
       "        vertical-align: middle;\n",
       "    }\n",
       "\n",
       "    .dataframe tbody tr th {\n",
       "        vertical-align: top;\n",
       "    }\n",
       "\n",
       "    .dataframe thead th {\n",
       "        text-align: right;\n",
       "    }\n",
       "</style>\n",
       "<table border=\"1\" class=\"dataframe\">\n",
       "  <thead>\n",
       "    <tr style=\"text-align: right;\">\n",
       "      <th></th>\n",
       "      <th>City</th>\n",
       "      <th>Lat</th>\n",
       "      <th>Lng</th>\n",
       "      <th>Max Temp</th>\n",
       "      <th>Humidity</th>\n",
       "      <th>Cloudiness</th>\n",
       "      <th>Wind Speed</th>\n",
       "      <th>Country</th>\n",
       "      <th>Date</th>\n",
       "    </tr>\n",
       "  </thead>\n",
       "  <tbody>\n",
       "    <tr>\n",
       "      <th>147</th>\n",
       "      <td>Wana</td>\n",
       "      <td>32.2989</td>\n",
       "      <td>69.5725</td>\n",
       "      <td>83.19</td>\n",
       "      <td>32</td>\n",
       "      <td>0</td>\n",
       "      <td>4.21</td>\n",
       "      <td>PK</td>\n",
       "      <td>1630005369</td>\n",
       "    </tr>\n",
       "    <tr>\n",
       "      <th>148</th>\n",
       "      <td>Gazojak</td>\n",
       "      <td>41.1875</td>\n",
       "      <td>61.4036</td>\n",
       "      <td>83.70</td>\n",
       "      <td>23</td>\n",
       "      <td>0</td>\n",
       "      <td>5.61</td>\n",
       "      <td>TM</td>\n",
       "      <td>1630005370</td>\n",
       "    </tr>\n",
       "    <tr>\n",
       "      <th>188</th>\n",
       "      <td>Benghazi</td>\n",
       "      <td>32.1167</td>\n",
       "      <td>20.0667</td>\n",
       "      <td>81.30</td>\n",
       "      <td>69</td>\n",
       "      <td>0</td>\n",
       "      <td>9.37</td>\n",
       "      <td>LY</td>\n",
       "      <td>1630005160</td>\n",
       "    </tr>\n",
       "    <tr>\n",
       "      <th>246</th>\n",
       "      <td>Bahār</td>\n",
       "      <td>34.9072</td>\n",
       "      <td>48.4414</td>\n",
       "      <td>76.44</td>\n",
       "      <td>16</td>\n",
       "      <td>0</td>\n",
       "      <td>12.35</td>\n",
       "      <td>IR</td>\n",
       "      <td>1630005407</td>\n",
       "    </tr>\n",
       "    <tr>\n",
       "      <th>332</th>\n",
       "      <td>Arraial do Cabo</td>\n",
       "      <td>-22.9661</td>\n",
       "      <td>-42.0278</td>\n",
       "      <td>84.06</td>\n",
       "      <td>51</td>\n",
       "      <td>0</td>\n",
       "      <td>14.97</td>\n",
       "      <td>BR</td>\n",
       "      <td>1630005439</td>\n",
       "    </tr>\n",
       "  </tbody>\n",
       "</table>\n",
       "</div>"
      ],
      "text/plain": [
       "                City      Lat      Lng  Max Temp  Humidity  Cloudiness  \\\n",
       "147             Wana  32.2989  69.5725     83.19        32           0   \n",
       "148          Gazojak  41.1875  61.4036     83.70        23           0   \n",
       "188         Benghazi  32.1167  20.0667     81.30        69           0   \n",
       "246            Bahār  34.9072  48.4414     76.44        16           0   \n",
       "332  Arraial do Cabo -22.9661 -42.0278     84.06        51           0   \n",
       "\n",
       "     Wind Speed Country        Date  \n",
       "147        4.21      PK  1630005369  \n",
       "148        5.61      TM  1630005370  \n",
       "188        9.37      LY  1630005160  \n",
       "246       12.35      IR  1630005407  \n",
       "332       14.97      BR  1630005439  "
      ]
     },
     "execution_count": 6,
     "metadata": {},
     "output_type": "execute_result"
    }
   ],
   "source": [
    "optimal_df = weather_df.loc[( weather_df[ 'Wind Speed'] <= 15) & ( weather_df[ 'Cloudiness'] == 0) & \\\n",
    "                                   ( weather_df[ 'Max Temp'] >= 75) & ( weather_df[ 'Max Temp'] <= 85)].dropna()\n",
    "\n",
    "optimal_df.head()"
   ]
  },
  {
   "cell_type": "markdown",
   "metadata": {},
   "source": [
    "### Hotel Map\n",
    "* Store into variable named `hotel_df`.\n",
    "* Add a \"Hotel Name\" column to the DataFrame.\n",
    "* Set parameters to search for hotels with 5000 meters.\n",
    "* Hit the Google Places API for each city's coordinates.\n",
    "* Store the first Hotel result into the DataFrame.\n",
    "* Plot markers on top of the heatmap."
   ]
  },
  {
   "cell_type": "code",
   "execution_count": 7,
   "metadata": {},
   "outputs": [
    {
     "data": {
      "text/html": [
       "<div>\n",
       "<style scoped>\n",
       "    .dataframe tbody tr th:only-of-type {\n",
       "        vertical-align: middle;\n",
       "    }\n",
       "\n",
       "    .dataframe tbody tr th {\n",
       "        vertical-align: top;\n",
       "    }\n",
       "\n",
       "    .dataframe thead th {\n",
       "        text-align: right;\n",
       "    }\n",
       "</style>\n",
       "<table border=\"1\" class=\"dataframe\">\n",
       "  <thead>\n",
       "    <tr style=\"text-align: right;\">\n",
       "      <th></th>\n",
       "      <th>City</th>\n",
       "      <th>Country</th>\n",
       "      <th>Lat</th>\n",
       "      <th>Lng</th>\n",
       "      <th>Hotel Name</th>\n",
       "    </tr>\n",
       "  </thead>\n",
       "  <tbody>\n",
       "    <tr>\n",
       "      <th>147</th>\n",
       "      <td>Wana</td>\n",
       "      <td>PK</td>\n",
       "      <td>32.2989</td>\n",
       "      <td>69.5725</td>\n",
       "      <td></td>\n",
       "    </tr>\n",
       "    <tr>\n",
       "      <th>148</th>\n",
       "      <td>Gazojak</td>\n",
       "      <td>TM</td>\n",
       "      <td>41.1875</td>\n",
       "      <td>61.4036</td>\n",
       "      <td></td>\n",
       "    </tr>\n",
       "    <tr>\n",
       "      <th>188</th>\n",
       "      <td>Benghazi</td>\n",
       "      <td>LY</td>\n",
       "      <td>32.1167</td>\n",
       "      <td>20.0667</td>\n",
       "      <td></td>\n",
       "    </tr>\n",
       "    <tr>\n",
       "      <th>246</th>\n",
       "      <td>Bahār</td>\n",
       "      <td>IR</td>\n",
       "      <td>34.9072</td>\n",
       "      <td>48.4414</td>\n",
       "      <td></td>\n",
       "    </tr>\n",
       "    <tr>\n",
       "      <th>332</th>\n",
       "      <td>Arraial do Cabo</td>\n",
       "      <td>BR</td>\n",
       "      <td>-22.9661</td>\n",
       "      <td>-42.0278</td>\n",
       "      <td></td>\n",
       "    </tr>\n",
       "  </tbody>\n",
       "</table>\n",
       "</div>"
      ],
      "text/plain": [
       "                City Country      Lat      Lng Hotel Name\n",
       "147             Wana      PK  32.2989  69.5725           \n",
       "148          Gazojak      TM  41.1875  61.4036           \n",
       "188         Benghazi      LY  32.1167  20.0667           \n",
       "246            Bahār      IR  34.9072  48.4414           \n",
       "332  Arraial do Cabo      BR -22.9661 -42.0278           "
      ]
     },
     "execution_count": 7,
     "metadata": {},
     "output_type": "execute_result"
    }
   ],
   "source": [
    "hotel_df = optimal_df.loc[:, [ 'City', 'Country', 'Lat', 'Lng']]\n",
    "\n",
    "# Add an empty hotel column to the DataFrame\n",
    "hotel_df['Hotel Name'] = \"\"\n",
    "\n",
    "# Display to check\n",
    "hotel_df.head()"
   ]
  },
  {
   "cell_type": "code",
   "execution_count": 8,
   "metadata": {},
   "outputs": [],
   "source": [
    "base_url = 'https://maps.googleapis.com/maps/api/place/nearbysearch/json'\n",
    "\n",
    "params = {'type': 'hotel',\n",
    "          'keyword': 'hotel',\n",
    "          'radius': 5000,\n",
    "          'key': g_key}"
   ]
  },
  {
   "cell_type": "code",
   "execution_count": 9,
   "metadata": {},
   "outputs": [
    {
     "name": "stdout",
     "output_type": "stream",
     "text": [
      "Retrieving Results for Index 147: Wana...\n",
      "No hotel found... city skipped.\n",
      "Retrieving Results for Index 148: Gazojak...\n",
      "No hotel found... city skipped.\n",
      "Retrieving Results for Index 188: Benghazi...\n",
      "No hotel found... city skipped.\n",
      "Retrieving Results for Index 246: Bahār...\n",
      "No hotel found... city skipped.\n",
      "Retrieving Results for Index 332: Arraial do Cabo...\n",
      "No hotel found... city skipped.\n",
      "Retrieving Results for Index 334: Caravelas...\n",
      "No hotel found... city skipped.\n",
      "Retrieving Results for Index 337: Darnah...\n",
      "No hotel found... city skipped.\n",
      "Retrieving Results for Index 385: Porto Torres...\n",
      "No hotel found... city skipped.\n",
      "Retrieving Results for Index 405: Nurota...\n",
      "No hotel found... city skipped.\n",
      "Retrieving Results for Index 427: Mashhad...\n",
      "No hotel found... city skipped.\n",
      "Retrieving Results for Index 428: Goubellat...\n",
      "No hotel found... city skipped.\n",
      "Retrieving Results for Index 501: Goderich...\n",
      "No hotel found... city skipped.\n",
      "Retrieving Results for Index 534: Batman...\n",
      "No hotel found... city skipped.\n",
      "Retrieving Results for Index 546: Dombarovskiy...\n",
      "No hotel found... city skipped.\n",
      "Retrieving Results for Index 552: Rāvar...\n",
      "No hotel found... city skipped.\n",
      "Retrieving Results for Index 553: Torbat-e Jām...\n",
      "No hotel found... city skipped.\n",
      "Retrieving Results for Index 564: Athens...\n",
      "No hotel found... city skipped.\n",
      "Retrieving Results for Index 565: Pishin...\n",
      "No hotel found... city skipped.\n",
      "Retrieving Results for Index 566: Saint-Michel-des-Saints...\n",
      "No hotel found... city skipped.\n",
      "-------End of Search-------\n"
     ]
    }
   ],
   "source": [
    "for index, row in hotel_df.iterrows():\n",
    "    # get city name, lat, lnt from df\n",
    "    lat = row[ 'Lat']\n",
    "    lng = row[ 'Lng']\n",
    "    city = row[ 'City']\n",
    "    \n",
    "    # Add keyword to params dict\n",
    "    params[ 'location'] = f'{lat},{lng}'\n",
    "      \n",
    "    # Assemble url, make API request, and print request to screen\n",
    "    response = requests.get(base_url, params= params).json()\n",
    "    print( f'Retrieving Results for Index { index}: { city}...')\n",
    "    \n",
    "    # Save hotel to DataFrame\n",
    "    try:\n",
    "        print( f'Closest hotel in { city} is',response['results'][0][ 'name'])\n",
    "        hotel_df.loc[ index, \"Hotel Name\"] = response['results'][0][ 'name']\n",
    "\n",
    "    # If no hotel is found, print message that city is being skipped\n",
    "    except (KeyError, IndexError):\n",
    "        print( 'No hotel found... city skipped.')\n",
    "    "
   ]
  },
  {
   "cell_type": "code",
   "execution_count": 10,
   "metadata": {},
   "outputs": [],
   "source": [
    "# NOTE: Do not change any of the code in this cell\n",
    "\n",
    "# Using the template add the hotel marks to the heatmap\n",
    "info_box_template = \"\"\"\n",
    "<dl>\n",
    "<dt>Name</dt><dd>{Hotel Name}</dd>\n",
    "<dt>City</dt><dd>{City}</dd>\n",
    "<dt>Country</dt><dd>{Country}</dd>\n",
    "</dl>\n",
    "\"\"\"\n",
    "# Store the DataFrame Row\n",
    "# NOTE: be sure to update with your DataFrame name\n",
    "hotel_info = [info_box_template.format(**row) for index, row in hotel_df.iterrows()]\n",
    "locations = hotel_df[[\"Lat\", \"Lng\"]]"
   ]
  },
  {
   "cell_type": "code",
   "execution_count": 11,
   "metadata": {},
   "outputs": [
    {
     "data": {
      "application/vnd.jupyter.widget-view+json": {
       "model_id": "ce9df22f0c10491587d6b6d54aa258e0",
       "version_major": 2,
       "version_minor": 0
      },
      "text/plain": [
       "Figure(layout=FigureLayout(height='420px'))"
      ]
     },
     "metadata": {},
     "output_type": "display_data"
    }
   ],
   "source": [
    "# Add marker layer ontop of heat map\n",
    "markers = gmaps.marker_layer(locations, info_box_content = hotel_info)\n",
    "\n",
    "# Add the layer to the map\n",
    "fig.add_layer(markers)\n",
    "\n",
    "# Display figure\n",
    "fig\n"
   ]
  },
  {
   "cell_type": "code",
   "execution_count": null,
   "metadata": {},
   "outputs": [],
   "source": []
  }
 ],
 "metadata": {
  "kernelspec": {
   "display_name": "Python 3",
   "language": "python",
   "name": "python3"
  },
  "language_info": {
   "codemirror_mode": {
    "name": "ipython",
    "version": 3
   },
   "file_extension": ".py",
   "mimetype": "text/x-python",
   "name": "python",
   "nbconvert_exporter": "python",
   "pygments_lexer": "ipython3",
   "version": "3.8.8"
  },
  "latex_envs": {
   "LaTeX_envs_menu_present": true,
   "autoclose": false,
   "autocomplete": true,
   "bibliofile": "biblio.bib",
   "cite_by": "apalike",
   "current_citInitial": 1,
   "eqLabelWithNumbers": true,
   "eqNumInitial": 1,
   "hotkeys": {
    "equation": "Ctrl-E",
    "itemize": "Ctrl-I"
   },
   "labels_anchors": false,
   "latex_user_defs": false,
   "report_style_numbering": false,
   "user_envs_cfg": false
  }
 },
 "nbformat": 4,
 "nbformat_minor": 4
}
